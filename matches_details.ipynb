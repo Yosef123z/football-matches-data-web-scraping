{
 "cells": [
  {
   "cell_type": "markdown",
   "id": "4d9d7b98",
   "metadata": {},
   "source": [
    "# Web Scraping Basics\n"
   ]
  },
  {
   "cell_type": "markdown",
   "id": "c81f1872",
   "metadata": {},
   "source": [
    "## Football Matches Small Project\n"
   ]
  },
  {
   "cell_type": "code",
   "execution_count": null,
   "id": "ae707f62",
   "metadata": {},
   "outputs": [],
   "source": [
    "import requests\n",
    "import csv\n",
    "from bs4 import BeautifulSoup as bs"
   ]
  },
  {
   "cell_type": "code",
   "execution_count": null,
   "id": "e63630e8",
   "metadata": {},
   "outputs": [],
   "source": [
    "# Get data from the page based on a date\n",
    "\n",
    "date = input(\"Please enter a date in the following format: DD/MM/YY\")\n",
    "page = requests.get(\n",
    "    f\"https://www.yallakora.com/Match-Center?date={date}\")"
   ]
  },
  {
   "cell_type": "code",
   "execution_count": null,
   "id": "217eb8f5",
   "metadata": {},
   "outputs": [],
   "source": [
    "def main(page):\n",
    "    # Get the content of the page in byte code\n",
    "    src = page.content\n",
    "\n",
    "    # Parsing bytecode --> (page content to be parsed, parsing method)\n",
    "    soup = bs(src, \"lxml\")\n",
    "\n",
    "    matches_details = []\n",
    "\n",
    "    # find_all(tag, filter)\n",
    "    championships = soup.find_all('div', {'class': 'matchCard'})\n",
    "\n",
    "    # Get match details\n",
    "    def get_match_info(championships, i):\n",
    "        championship_title = championships[i].find('h2').text.strip()\n",
    "        all_matches = championships[i].find_all('div', {'class': 'liItem'})\n",
    "        number_of_matches = len(all_matches)\n",
    "\n",
    "        for i in range(number_of_matches):\n",
    "            # get team names\n",
    "            team_A = all_matches[i].find(\n",
    "                'div', {'class': 'teamA'}).text.strip()\n",
    "            team_B = all_matches[i].find(\n",
    "                'div', {'class': 'teamB'}).text.strip()\n",
    "\n",
    "            # get score\n",
    "            match_result = all_matches[i].find(\n",
    "                'div', {'class': 'MResult'}).find_all('span', {'class': 'score'})\n",
    "            score = f\"{match_result[0].text.strip()} - {match_result[0].text.strip()}\"\n",
    "\n",
    "            # get match time\n",
    "            match_time = all_matches[i].find(\n",
    "                'div', {'class': 'MResult'}).find('span', {'class': 'time'}).text.strip()\n",
    "\n",
    "            # add match info to matches_details\n",
    "            matches_details.append({'نوع البطولة': championship_title, 'الفريق الاول': team_A,\n",
    "                                    'الفريق الثانى': team_B, 'ميعاد المباراة': match_time, 'النتيجة': score})\n",
    "\n",
    "    for i in range(len(championships)):\n",
    "        get_match_info(championships, i)\n",
    "\n",
    "    keys = matches_details[0].keys()\n",
    "    with open('Matches_Details.csv', 'w') as output_file:\n",
    "        dict_writer = csv.DictWriter(output_file, keys)\n",
    "        dict_writer.writeheader()\n",
    "        dict_writer.writerows(matches_details)\n",
    "        print(\"file created\")"
   ]
  },
  {
   "cell_type": "code",
   "execution_count": null,
   "id": "2c4caf8b",
   "metadata": {},
   "outputs": [
    {
     "name": "stdout",
     "output_type": "stream",
     "text": [
      "file created\n"
     ]
    }
   ],
   "source": [
    "main(page)"
   ]
  }
 ],
 "metadata": {
  "kernelspec": {
   "display_name": "base",
   "language": "python",
   "name": "python3"
  },
  "language_info": {
   "codemirror_mode": {
    "name": "ipython",
    "version": 3
   },
   "file_extension": ".py",
   "mimetype": "text/x-python",
   "name": "python",
   "nbconvert_exporter": "python",
   "pygments_lexer": "ipython3",
   "version": "3.12.7"
  }
 },
 "nbformat": 4,
 "nbformat_minor": 5
}
